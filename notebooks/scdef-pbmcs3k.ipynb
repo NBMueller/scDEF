{
 "cells": [
  {
   "cell_type": "markdown",
   "id": "60250b69",
   "metadata": {},
   "source": [
    "## scDEF on 3k PBMCs\n",
    "In this notebook we apply scDEF to the 3k PBMCs data set from 10X Genomics, which is available through Scanpy."
   ]
  },
  {
   "cell_type": "markdown",
   "id": "b377ebee",
   "metadata": {},
   "source": [
    "## Imports and setup"
   ]
  },
  {
   "cell_type": "code",
   "execution_count": null,
   "id": "4c1ab084",
   "metadata": {},
   "outputs": [],
   "source": [
    "import scdef\n",
    "\n",
    "import numpy as np\n",
    "import pandas as pd\n",
    "import scanpy as sc\n",
    "\n",
    "sc.settings.verbosity = 3             # verbosity: errors (0), warnings (1), info (2), hints (3)\n",
    "sc.logging.print_header()"
   ]
  },
  {
   "cell_type": "markdown",
   "id": "7a5b2ae6",
   "metadata": {},
   "source": [
    "## Load and pre-process data\n",
    "Just like in the Scanpy tutorial. Note that we keep the raw counts in `adata.layers['counts']`."
   ]
  },
  {
   "cell_type": "code",
   "execution_count": null,
   "id": "e671b95d",
   "metadata": {},
   "outputs": [],
   "source": [
    "# !mkdir data\n",
    "# !wget http://cf.10xgenomics.com/samples/cell-exp/1.1.0/pbmc3k/pbmc3k_filtered_gene_bc_matrices.tar.gz -O data/pbmc3k_filtered_gene_bc_matrices.tar.gz\n",
    "# !cd data; tar -xzf pbmc3k_filtered_gene_bc_matrices.tar.gz\n",
    "# !mkdir write"
   ]
  },
  {
   "cell_type": "code",
   "execution_count": null,
   "id": "88b51197",
   "metadata": {},
   "outputs": [],
   "source": [
    "adata = sc.read_10x_mtx(\n",
    "    'data/filtered_gene_bc_matrices/hg19/',  # the directory with the `.mtx` file\n",
    "    var_names='gene_symbols',                # use gene symbols for the variable names (variables-axis index)\n",
    "    cache=True)                              # write a cache file for faster subsequent reading\n",
    "adata.obs.index = adata.obs.index.str.replace('-1', '')\n",
    "adata.var_names_make_unique()  # this is unnecessary if using `var_names='gene_ids'` in `sc.read_10x_mtx`\n",
    "\n",
    "sc.pp.filter_cells(adata, min_genes=2)\n",
    "sc.pp.filter_genes(adata, min_cells=3)\n",
    "adata.var['mt'] = adata.var_names.str.startswith('MT-')  # annotate the group of mitochondrial genes as 'mt'\n",
    "sc.pp.calculate_qc_metrics(adata, qc_vars=['mt'], percent_top=None, log1p=False, inplace=True)\n",
    "adata = adata[adata.obs.n_genes_by_counts < 2500, :]\n",
    "adata = adata[adata.obs.pct_counts_mt < 5, :]\n",
    "adata.raw = adata\n",
    "\n",
    "adata.layers['counts'] = adata.X.toarray() # Keep the counts, for scDEf\n",
    "\n",
    "# Keep only HVGs\n",
    "sc.pp.normalize_total(adata, target_sum=1e4)\n",
    "sc.pp.log1p(adata)\n",
    "sc.pp.highly_variable_genes(adata, min_mean=0.0125, max_mean=3, min_disp=0.5) \n",
    "\n",
    "adata = adata[:, adata.var.highly_variable]\n",
    "\n",
    "# Process and visualize the data\n",
    "sc.pp.regress_out(adata, ['total_counts', 'pct_counts_mt'])\n",
    "sc.pp.scale(adata, max_value=10)\n",
    "sc.tl.pca(adata, svd_solver='arpack')\n",
    "sc.pp.neighbors(adata, n_neighbors=10, n_pcs=40)\n",
    "sc.tl.umap(adata)\n",
    "sc.tl.leiden(adata)\n",
    "sc.pl.umap(adata, color=['leiden'])"
   ]
  },
  {
   "cell_type": "markdown",
   "id": "9570ad08",
   "metadata": {},
   "source": [
    "## Run scDEF\n",
    "We first create ann scDEF object with default parameters. The number of layers, their sizes and other model parameters can be easily inspected by printing the object. The default scDEF contains 3 layers of sizes 60, 30, 15 (from lower to upper levels). After fitting the model, the ARD posteriors can be used to filter out irrelevant factors."
   ]
  },
  {
   "cell_type": "code",
   "execution_count": null,
   "id": "47998c37",
   "metadata": {},
   "outputs": [],
   "source": [
    "scd = scdef.scDEF(adata, counts_layer='counts') # if layer='counts' is not used, you must ensure adata.X contains the counts\n",
    "print(scd) # inspect the scDEF object, which contains a copy of the input AnnData"
   ]
  },
  {
   "cell_type": "code",
   "execution_count": null,
   "id": "cbfcfba7",
   "metadata": {},
   "outputs": [],
   "source": [
    "scd.learn(n_epoch=5) # learn the hierarchical gene signatures"
   ]
  },
  {
   "cell_type": "markdown",
   "id": "dd54ed1e",
   "metadata": {},
   "source": [
    "As the logs indicate, the `AnnData` object inside the `scDEF` object has been updated with annotations that can be used as cluster assignments at different levels of resolution. By default, scDEF uses three layers, so we have three such annotations: `factor` for layer 0 (the lower level), `hfactor` for layer 1, and `hhfactor` for layer 2 (the upper level). Let's look at the UMAP coloured by these cluster assignments."
   ]
  },
  {
   "cell_type": "code",
   "execution_count": null,
   "id": "c892f5e1",
   "metadata": {},
   "outputs": [],
   "source": [
    "sc.pl.umap(scd.adata, color=['factor', 'hfactor', 'hhfactor'], frameon=False)"
   ]
  },
  {
   "cell_type": "markdown",
   "id": "05896284",
   "metadata": {},
   "source": [
    "By default, the factors at each layer with the 50% top posterior relevancies are kept. However, we may want to keep more or less than this. We can check the relevancies with the `plot_ard` method and adjust our filtering with the `filter` method, which will update all the annotations accordingly. We can either use a single threshold for all layers, or use a layer-specific threshold."
   ]
  },
  {
   "cell_type": "code",
   "execution_count": null,
   "id": "94d30347",
   "metadata": {},
   "outputs": [],
   "source": [
    "scd.plot_ard(ard=[.7, .8, .8], figsize=(16,4))\n",
    "scd.filter_factors([.7, .8, .8])"
   ]
  },
  {
   "cell_type": "markdown",
   "id": "be1305a0",
   "metadata": {},
   "source": [
    "Let's look at the clustering assignments again with this new filter."
   ]
  },
  {
   "cell_type": "code",
   "execution_count": null,
   "id": "3864faab",
   "metadata": {},
   "outputs": [],
   "source": [
    "sc.pl.umap(scd.adata, color=['factor', 'hfactor', 'hhfactor'], frameon=False)"
   ]
  },
  {
   "cell_type": "markdown",
   "id": "db8a0243",
   "metadata": {},
   "source": [
    "We can also look at the graph containing the factor hierarchy with `scDEF.make_graph`, which allows for flexible customization. "
   ]
  },
  {
   "cell_type": "code",
   "execution_count": null,
   "id": "04b00b7e",
   "metadata": {},
   "outputs": [],
   "source": [
    "scd.make_graph(filled='factor', show_signatures=False) # simple graph with color-filled nodes\n",
    "scd.graph # Graphviz object"
   ]
  },
  {
   "cell_type": "code",
   "execution_count": null,
   "id": "f6b1bbe4",
   "metadata": {},
   "outputs": [],
   "source": [
    "scd.make_graph(show_signatures=True) # simple graph with gene signatures in nodes\n",
    "scd.graph"
   ]
  },
  {
   "cell_type": "markdown",
   "id": "5d04d8bc",
   "metadata": {},
   "source": [
    "It is also possible to get the gene signatures of different levels as lists with the `scDEF.get_rankings` method. The output of this is a list of genes for each factor in layer `layer_idx`, sorted by decreasing weight in the factor."
   ]
  },
  {
   "cell_type": "code",
   "execution_count": null,
   "id": "ff929280",
   "metadata": {},
   "outputs": [],
   "source": [
    "gene_programs = scd.get_rankings(layer_idx=0)"
   ]
  },
  {
   "cell_type": "markdown",
   "id": "e3534282",
   "metadata": {},
   "source": [
    "We can use `dotplot` to visualize the asssociation of the scDEF factors at different layers with annotations from the `AnnData` object."
   ]
  },
  {
   "cell_type": "code",
   "execution_count": null,
   "id": "912cc691",
   "metadata": {},
   "outputs": [],
   "source": [
    "# Compare with leiden clusters\n",
    "scd.plot_obs_factor_dotplot('leiden', 0, titlesize=16, figsize=(16,3)) # layer 0\n",
    "scd.plot_obs_factor_dotplot('leiden', 1, titlesize=16, figsize=(16,3)) # layer 1\n",
    "scd.plot_obs_factor_dotplot('leiden', 2, titlesize=16, figsize=(16,3)) # layer 2"
   ]
  },
  {
   "cell_type": "markdown",
   "id": "70833882",
   "metadata": {},
   "source": [
    "Finally, we can use the hierarchical structure provided by the scDEF to visualize the data in a PAGA graph (Wolf et al, 2018). This makes the different levels of resolution and their relationships evident. We set `reuse_pos=True` to make initialize the positions of the nodes in the graph at layer `i` with the positions of the nodes from layer `i+1`."
   ]
  },
  {
   "cell_type": "code",
   "execution_count": null,
   "id": "78d35fd9",
   "metadata": {},
   "outputs": [],
   "source": [
    "scd.plot_multilevel_paga(figsize=(16,4), reuse_pos=True, frameon=False)"
   ]
  }
 ],
 "metadata": {
  "kernelspec": {
   "display_name": "Python 3",
   "language": "python",
   "name": "python3"
  },
  "language_info": {
   "codemirror_mode": {
    "name": "ipython",
    "version": 3
   },
   "file_extension": ".py",
   "mimetype": "text/x-python",
   "name": "python",
   "nbconvert_exporter": "python",
   "pygments_lexer": "ipython3",
   "version": "3.8.5"
  },
  "toc": {
   "base_numbering": 1,
   "nav_menu": {},
   "number_sections": true,
   "sideBar": true,
   "skip_h1_title": false,
   "title_cell": "Table of Contents",
   "title_sidebar": "Contents",
   "toc_cell": false,
   "toc_position": {},
   "toc_section_display": true,
   "toc_window_display": false
  }
 },
 "nbformat": 4,
 "nbformat_minor": 5
}
